{
 "cells": [
  {
   "cell_type": "markdown",
   "metadata": {},
   "source": [
    "## Mini projet 3 : Mot de passe prononçable + graphique"
   ]
  },
  {
   "cell_type": "markdown",
   "metadata": {},
   "source": [
    "**prog 1 (principal)** : utilisateur peut choisir de générer un mdp ou tester mdp saisi\\\n",
    "**prog 2 (generateur)** : creer mdp aléatoire (nb mot + longueur choisi + tirets)\\\n",
    "**prog 3 (testeur)** : note /20 pour la force (critère à déterminer)\\"
   ]
  },
  {
   "cell_type": "code",
   "execution_count": 27,
   "metadata": {},
   "outputs": [
    {
     "name": "stdout",
     "output_type": "stream",
     "text": [
      "uaiofovi\n",
      "ombcidrr\n",
      "edgnqumr\n",
      "ekcltlcf\n",
      "yjujuzar\n",
      "\n"
     ]
    }
   ],
   "source": [
    "from random import randint\n",
    "\n",
    "def lirefichier(fichier = 'liste_francais.txt', encoding = \"UTF-8\"):\n",
    "    # lire un fichier .txt en python\n",
    "    f = open(fichier, encoding = \"ISO-8859-15\")\n",
    "    contenu = f.read() # longue chaine de caractere contenant tout les mot du fichier\n",
    "    #print(contenu[:21]) # affiche 20 premier caractere du fichier\n",
    "    #print(contenu[1000:1011]) # affiche 10 caractere entre 1000eme et 1010eme inclus\n",
    "    contenu = contenu.lower()\n",
    "    return contenu\n",
    "\n",
    "def dictionnaire(text):\n",
    "    i = 0\n",
    "    nb_total_lettre = len(text)\n",
    "    alpha = \"abcdefghijklmnopqrstuvwxyz\"\n",
    "    #ignore = [\"\\n\", \" \", '\\x9c', ] # caractere a ignorer\n",
    "    dico_lettre_possible = {}\n",
    "    for lettre in text:\n",
    "        lettre = lettre.lower()\n",
    "        # fin texte ?\n",
    "        if(i + 1 == nb_total_lettre):\n",
    "            break # finit\n",
    "        # ignore certains caractere\n",
    "        if(lettre not in alpha or text[i+1].lower() not in alpha):\n",
    "            i = i+1\n",
    "            continue # une fois ignorer, go to prochaine lettre\n",
    "\n",
    "        if (lettre in dico_lettre_possible): # lettre deja dans dico ?\n",
    "            if (text[i+1].lower() not in dico_lettre_possible[lettre]): # lettre suivante déjà dans sous dico ?\n",
    "                dico_lettre_possible[lettre].append(text[i+1].lower()) # si oui alors l'ajouter\n",
    "        else:\n",
    "            dico_lettre_possible[lettre] = [] # si existe pas deja alors creer une nvll ligne pour la lettre\n",
    "            dico_lettre_possible[lettre].append(text[i+1].lower()) # + creer et ajouter son sous menu \n",
    "        i = i+1\n",
    "    return dico_lettre_possible\n",
    "\n",
    "\n",
    "def generateur(nb_mot, longueur):\n",
    "    contenu = lirefichier('liste_francais.txt', \"ISO-8859-15\")\n",
    "    liste_mot_initiale = contenu\n",
    "    #alpha = \"abcdefghijklmnopqrstuvwxyz\"\n",
    "    alpha = \"aeiouy\"\n",
    "    dico = dictionnaire(contenu)\n",
    "    #print(repr(dico).replace(\"]\", \"]\\n\"))\n",
    "    for m in range(nb_mot):\n",
    "        cr1 = alpha[randint(0, len(alpha)-1)]\n",
    "        car_courant = cr1\n",
    "        mot_courant = cr1\n",
    "        for l in range(longueur - 1):\n",
    "            car_courant = dico[car_courant][randint(0, len(dico[car_courant])-1)]\n",
    "            mot_courant = mot_courant + car_courant\n",
    "        print(mot_courant)\n",
    "\n",
    "\n",
    "    return \"\"\n",
    "    #return mdp_genere\n",
    "\n",
    "\n",
    "\"\"\"\n",
    "Function de test de robustesse du mot de passe.\n",
    "Règles affectant les points:\n",
    "- longueur : 8> 0pts ; 10>=3pts>=8 ; 5pts>=11\n",
    "- présence de majuscule et de minuscules : 5pts\n",
    "- présence de chiffres : 5pts\n",
    "- présence de caractere speciaux : 5pts (=/= lettres et chiffres)\n",
    "\"\"\"\n",
    "def testeur(mdp):\n",
    "    # comment for test\n",
    "    score_longueur = test_longueur(mdp)\n",
    "    score_maj = test_majuscule(mdp)\n",
    "    score_carcsp = test_carcsp(mdp)\n",
    "    score_chiffre = test_chiffre(mdp)\n",
    "    note = score_longueur + score_maj + score_carcsp + score_chiffre\n",
    "\n",
    "    detail_score = \"\\n\\t score_longueur : \"+str(score_longueur)\n",
    "    detail_score = detail_score + \"\\n\\t score_maj : \"+str(score_maj)\n",
    "    detail_score = detail_score + \"\\n\\t score_carcsp : \"+str(score_carcsp)\n",
    "    detail_score = detail_score + \"\\n\\t score_chiffre : \"+str(score_chiffre)\n",
    "\n",
    "    return [note, detail_score]\n",
    "\n",
    "# longueur\n",
    "def test_longueur(mdp):\n",
    "    if len(mdp) <=10 and len(mdp) >=8 :\n",
    "        return 3\n",
    "    elif len(mdp) >=11 :\n",
    "        return 5\n",
    "    return 0\n",
    "    \n",
    "# majuscule\n",
    "def test_majuscule(mdp):\n",
    "    a_minuscule = False\n",
    "    a_majuscule = False\n",
    "    majuscule = \"ABCDEFGHIJKLMNOPQRSTUVWXYZ\"\n",
    "    for lettre in mdp :\n",
    "        if lettre in majuscule :\n",
    "            a_majuscule = True\n",
    "        if lettre in majuscule.lower() :\n",
    "            a_minuscule = True\n",
    "        if a_majuscule == True and a_minuscule == True :\n",
    "            return 5\n",
    "    return 0\n",
    "\n",
    "# caractères spéciaux\n",
    "def test_carcsp(mdp):\n",
    "    majuscule = \"ABCDEFGHIJKLMNOPQRSTUVWXYZ\"\n",
    "    for lettre in mdp :\n",
    "        if lettre not in majuscule and lettre not in majuscule.lower() :\n",
    "            return 5\n",
    "    return 0\n",
    "\n",
    "# chiffres\n",
    "def test_chiffre(mdp):\n",
    "    nombre = \"0123456789\"\n",
    "    for lettre in mdp :\n",
    "        if lettre in nombre :\n",
    "            return 5\n",
    "    return 0\n",
    "\n",
    "def principal():\n",
    "    choix = input(\"voulez vous générer (1) un mdp ou tester (2) un mdp ? : \")\n",
    "    if choix == \"1\":\n",
    "        nb_mot = input(\"quelle nombre de mot voulez vous ?\")\n",
    "        longueur = input(\"quelle longueur de mdp voulez vous ?\")\n",
    "        reponse = \"Voici votre mot de passe :\" + generateur(nb_mot, longueur)\n",
    "    elif choix == \"2\":\n",
    "        tester = input(\"saisisser le mdp à tester :\")\n",
    "        res = testeur(tester)\n",
    "        reponse = \"Voici le score de robustesse de mot de passe : \" + str(res[0])\n",
    "        reponse = reponse + \"\\nDétail du score :\" + res[1]\n",
    "\n",
    "    else :\n",
    "        reponse = \"Merci de répondre par 1 (générer) ou 2 (tester)\"\n",
    "    return reponse\n",
    "    \n",
    "#print (principal())\n",
    "\n",
    "print (generateur(5,8))\n"
   ]
  },
  {
   "cell_type": "code",
   "execution_count": 28,
   "metadata": {},
   "outputs": [
    {
     "ename": "NameError",
     "evalue": "name 'reponse' is not defined",
     "output_type": "error",
     "traceback": [
      "\u001b[0;31m---------------------------------------------------------------------------\u001b[0m",
      "\u001b[0;31mNameError\u001b[0m                                 Traceback (most recent call last)",
      "Cell \u001b[0;32mIn[28], line 11\u001b[0m\n\u001b[1;32m      8\u001b[0m             nb_lettres \u001b[38;5;241m=\u001b[39m nb_lettres \u001b[38;5;241m+\u001b[39m \u001b[38;5;241m1\u001b[39m\n\u001b[1;32m      9\u001b[0m     \u001b[38;5;28;01mreturn\u001b[39;00m nb_lettres\n\u001b[0;32m---> 11\u001b[0m nombre_lettres(\u001b[43mreponse\u001b[49m)\n",
      "\u001b[0;31mNameError\u001b[0m: name 'reponse' is not defined"
     ]
    }
   ],
   "source": [
    "def nombre_lettres(texte):\n",
    "    \"\"\" compte les lettres alphabétiques d'un texte\"\"\"\n",
    "    \n",
    "    alpha = \"ABCDEFGHIJKLMNOPQRSTUVWXYZ\"   # lettres possibles\n",
    "    nb_lettres = 0\n",
    "    for lettre in texte :\n",
    "        if lettre in alpha :\n",
    "            nb_lettres = nb_lettres + 1\n",
    "    return nb_lettres\n",
    "\n",
    "nombre_lettres(reponse)"
   ]
  },
  {
   "cell_type": "code",
   "execution_count": null,
   "metadata": {},
   "outputs": [],
   "source": [
    "def frequence_lettre(lettre_visee, texte):\n",
    "    \"\"\" fréquence d'apparition d'une lettre dans un texte \n",
    "    E : lettre_visee, texte(str)\n",
    "    S : frequences (list) listes des fréquences dans l'ordre alpha\"\"\"\n",
    "    frequence = 0\n",
    "    total = nombre_lettres(texte)\n",
    "    nb_lettre_visee = 0\n",
    "    for lettre in texte:\n",
    "        if lettre == lettre_visee:\n",
    "            nb_lettre_visee = nb_lettre_visee + 1\n",
    "    frequence = (nb_lettre_visee / total)*100\n",
    "    return frequence\n",
    "\n",
    "valeur_f = frequence_lettre(\"A\", textP)\n",
    "print(valeur_f)"
   ]
  },
  {
   "cell_type": "code",
   "execution_count": null,
   "metadata": {},
   "outputs": [],
   "source": [
    "# lettres possibles\n",
    "alpha = \"ABCDEFGHIJKLMNOPQRSTUVWXYZ\"  \n",
    "frequences = [0 for i in range(26)]\n",
    "lettres = list(alpha)\n",
    "\n",
    "# fréquences observées des chaque lettres de alpha\n",
    "for i in range(len(lettres)):\n",
    "    f = frequence_lettre(lettres[i], textP)\n",
    "    frequences[i] = f\n",
    "\n",
    "# Tracé du graphique\n",
    "plt.bar(lettres, frequences)\n",
    "plt.show()"
   ]
  },
  {
   "cell_type": "code",
   "execution_count": 72,
   "metadata": {},
   "outputs": [
    {
     "name": "stdout",
     "output_type": "stream",
     "text": [
      "{'a': ['a', 'r', 'b', 'i', 'n', 's', 't', 'g', 'l', 'y', 'm', 'c', 'd', 'j', 'p', 'é', 'u', 'f', 'v', 'î', 'h', 'ï', 'x', 'k', 'z', 'q', 'o', 'e', '-', 'ç', 'ë', 'è', 'w', 'ô', '.'], 'r': ['o', 'd', 'e', 'r', 'a', 'i', 't', 'é', 'u', 'b', 'p', 'n', 's', 'm', 'c', '-', 'y', 'ç', 'ê', 'è', 'g', 'ô', 'h', 'v', 'q', 'k', 'l', 'û', 'f', 'â', 'w', 'j', 'x', 'z'], 'o': ['n', 'u', 'i', 'm', 'r', 'l', 'y', 't', 'g', 'd', 's', 'c', 'î', 'p', 'b', '-', 'a', 'ï', 'o', 'è', 'v', 'û', 'f', 'x', 'ë', 'k', 'q', 'z', 'e', 'w', 'é', 'h', 'ù', 'ê', 'j'], 'b': ['a', 'b', 'é', 'e', 'c', 'd', 'ê', 'h', 'i', 'î', 'j', 'l', 'o', 'r', 's', 'u', 'y', 'â', 'è', 'm', 'n', '\\x9c', 'p', 'û', 'v', 't', 'w'], 'i': ['s', 'e', 'r', 'a', 'c', 'o', 'q', 'n', 'l', 'd', 't', 'g', 'f', 'v', 'b', 'm', 'p', 'x', 'é', 'u', 'h', 'z', 'è', 'j', '-', 'k', 'i', 'â', 'w'], 's': ['s', 'é', 'e', 'i', 'o', 'm', 't', 'u', 'a', 'c', 'p', 'n', '-', 'q', 'b', 'y', 'h', 'k', '\\x9c', 'f', 'l', 'j', 'g', 'd', 'z', 'è', 'r', \"'\", 'û', 'v', 'w', '.'], 'e': ['m', 'n', 'r', 's', 'u', 'l', 'i', 'c', 'p', 't', 'v', 'a', 'd', '-', 'f', 'x', 'g', 'z', 'y', 'h', 'o', 'ï', 'e', 'k', 'b', 'j', 'ç', 'w', 'û', 'ô', 'q'], 'm': ['e', 'i', 'm', 'a', 'o', 'p', 'u', 'é', 's', 'b', 'è', 'n', 'ô', 'g', 'w', 't', 'l', 'ê', 'â', 'r', 'y', '\\x9c', 'ü', 'û', 'd', 'v'], 'n': ['t', 'd', 'n', 'a', 'e', 'é', 'i', 'c', 's', 'u', 'è', 'o', 'g', 'y', 'x', 'ç', 'j', 'k', 'l', 'q', 'z', 'v', '-', 'f', 'h', 'ô', 'p', 'b', 'w', 'r', 'ê', 'm', '\\x9c', 'â', \"'\", 'î'], 'd': ['o', 'i', 'e', 'a', 'j', 'é', 's', 'r', 'u', 'd', 'h', 'm', 'n', 'v', 'y', \"'\", 'g', 'è', 't', 'w', 'l', 'z', 'î', 'ô', 'û', 'ü', 'f', '-', 'k'], 'é': ['e', 's', 'd', 'c', 'g', 'v', 'i', 'm', 'l', 'r', 'o', 't', 'n', 'q', 'a', 'b', 'â', 'h', 'p', 'f', 'z', 'é', 'ç', 'j', 'u', 'k'], 'u': ['r', 's', 'e', 't', 'v', 'p', 'm', 'd', 'a', 'é', 'c', 'l', 'i', 'x', 'b', 'ë', 'ï', 'n', 'y', 'j', '-', 'g', 'q', 'f', 'h', 'è', 'ê', 'z', 'o', 'k', 'î', \"'\", '.', 'u'], 't': ['-', 's', 't', 'a', 'e', 'o', 'r', 'u', 'i', 'é', 'h', 'y', 'è', 'c', 'l', 'm', 'z', 'ô', 'ê', 'n', 'b', 'f', 'p', 'w', 'g', 'â'], '-': ['j', 'c', 's', 'p', 'm', 'g', 'v', 'd', 'h', 't', 'n', 'f', 'b', 'r', 'a', 'ê', 'e', 'l', 'u', 'o', 'i', 'z', 'é'], 'j': ['o', 'a', 'e', 'u', 'n', 'à', 'ô', 'é', 'i', 'k'], 'g': ['e', 'è', 'é', 'n', 'i', 'h', 'a', 'g', 'l', 'r', 'o', 'u', 'k', 'm', 'd', 's', 'y', '-', 'â', 't', 'ê', 'ü', 'b', 'w', 'z'], 'y': ['e', 's', 'l', 't', 'n', 'o', 'm', 'c', 'p', 'é', 'x', 'a', 'r', 'u', 'g', 'z', 'f', 'd', 'w', 'b', 'è', 'j', 'ô', 'i', 'v'], 'c': ['é', 'è', 'a', 't', 'e', 'o', 'i', 'c', 'l', 'h', 'r', 'u', 'm', 'n', 'q', 'd', 'y', 'ô', 'k', 's', '\\x9c', 'â', '-', 'f'], 'è': ['s', 'n', 'd', 't', 'v', 'r', 'b', 'g', 'm', 'z', 'q', 'c', 'l', 'f'], 'q': ['u', 'û'], 'l': ['l', 'e', 'a', 'i', 'u', 'm', 'é', 'è', 'y', 's', 't', 'o', 'b', 'c', 'ê', 'f', 'g', 'ô', 'p', 'v', 'd', 'k', 'n', 'z', 'â', 'à', 'ä', 'j', 'h', 'r', '-', 'q'], 'ê': ['t', 'n', 'm', 'c', 'q', 'l', 'p', 'k', 'v'], 'h': ['o', 'e', 'é', 'a', 'è', 'r', 'i', 'm', 'y', 'u', 'l', 'w', 't', 'n', 'â', '\\x9c', 'ô', 'd', 's', 'c'], 'î': ['m', 't', 'n', 'c', 'l'], 'v': ['e', 'i', 'é', 'a', 'o', 'r', 'ê', 'è', 'u', 's', 'y', 'd', 'ô', 'î', 'l', '\\x9c'], 'p': ['t', 'a', 'l', 'p', 'e', 's', 'o', 'é', 'h', 'i', 'r', 'è', 'u', 'ô', 'ê', 'y', 'î', 'n', 'z', 'â', 'ç'], 'â': ['c', 'g', 't', 'm', 'n', 'p', 'f', 'i', 'l', 'b', 's', 'v', 'q'], 'f': ['s', 'f', 'a', 'e', 'i', 'l', 'o', 'r', 'û', 'g', 'p', 'é', 'è', 'u', '-', 'â', 'ê', 't', '\\x9c', 'k'], 'û': ['t', 'l', 'c', 'm', 'n', 'r'], 'ï': ['e', 'd', 't', 'q', 's', 'n', 'o', 'k', 'b', 'r', 'c', 'u', 'a', 'f', 'v', 'l'], 'k': ['b', 'o', 'a', 'c', 'é', 'e', 'l', '-', 'i', 'h', 't', 's', 'n', 'k', 'u', 'y', 'r'], 'x': ['a', 'i', 'e', 'q', 'é', '-', 't', 'c', 'h', 'o', 'p', 's', 'u', 'y', 'w', 'd'], 'z': ['o', '-', 'e', 'é', 'i', 'u', 'a', 'z', 'g', 'b', 'v', 't', 's', 'l', 'y', 'k', 'è'], 'ç': ['u', 'o', 'a', 'à'], 'ô': ['t', 'm', 'n', 'l', 'p', 'd', 'k'], 'ë': ['l', 'n', 't'], \"'\": ['h', '\\x9c', 'o', 'a', 'e', 'd', 'î', 'u'], 'w': ['i', 'a', 'n', 'e', 'o', 's', 'r', 'm', '-', 'h', 'y'], '\\x9c': ['u', 'i', 't', 'l', 's'], 'ü': ['s', 'n', 'l'], 'à': ['-'], 'ä': ['n'], '.': ['s', 'a']}\n"
     ]
    }
   ],
   "source": [
    "contenu = lirefichier('liste_francais.txt', \"ISO-8859-15\")\n",
    "print(dictionnaire(contenu))"
   ]
  }
 ],
 "metadata": {
  "kernelspec": {
   "display_name": "Python 3",
   "language": "python",
   "name": "python3"
  },
  "language_info": {
   "codemirror_mode": {
    "name": "ipython",
    "version": 3
   },
   "file_extension": ".py",
   "mimetype": "text/x-python",
   "name": "python",
   "nbconvert_exporter": "python",
   "pygments_lexer": "ipython3",
   "version": "3.12.3"
  }
 },
 "nbformat": 4,
 "nbformat_minor": 2
}
