{
 "cells": [
  {
   "cell_type": "markdown",
   "metadata": {},
   "source": [
    "## Mini projet 3 : Mot de passe prononçable + graphique"
   ]
  },
  {
   "cell_type": "markdown",
   "metadata": {},
   "source": [
    "**prog 1 (principal)** : utilisateur peut choisir de générer un mdp ou tester mdp saisi\\\n",
    "**prog 2 (generateur)** : creer mdp aléatoire (nb mot + longueur choisi + tirets)\\\n",
    "**prog 3 (testeur)** : note /20 pour la force (critère à déterminer)\\"
   ]
  },
  {
   "cell_type": "code",
   "execution_count": 1,
   "metadata": {},
   "outputs": [
    {
     "name": "stdout",
     "output_type": "stream",
     "text": [
      "iiuenyte\n",
      "ywhefrir\n",
      "ioicetrt\n",
      "avintpel\n",
      "aknsctaw\n",
      "\n"
     ]
    }
   ],
   "source": [
    "from random import randint\n",
    "\n",
    "def lirefichier(fichier = 'liste_francais.txt', encoding = \"UTF-8\"):\n",
    "    # lire un fichier .txt en python\n",
    "    f = open(fichier, encoding = \"ISO-8859-15\")\n",
    "    contenu = f.read() # longue chaine de caractere contenant tout les mot du fichier\n",
    "    #print(contenu[:21]) # affiche 20 premier caractere du fichier\n",
    "    #print(contenu[1000:1011]) # affiche 10 caractere entre 1000eme et 1010eme inclus\n",
    "    contenu = contenu.lower()\n",
    "    return contenu\n",
    "\n",
    "def dictionnaire(text):\n",
    "    i = 0\n",
    "    nb_total_lettre = len(text)\n",
    "    alpha = \"abcdefghijklmnopqrstuvwxyz\"\n",
    "    #ignore = [\"\\n\", \" \", '\\x9c', ] # caractere a ignorer\n",
    "    dico_lettre_possible = {}\n",
    "    for lettre in text:\n",
    "        lettre = lettre.lower()\n",
    "        # fin texte ?\n",
    "        if(i + 1 == nb_total_lettre):\n",
    "            break # finit\n",
    "        # ignore certains caractere\n",
    "        if(lettre not in alpha or text[i+1].lower() not in alpha):\n",
    "            i = i+1\n",
    "            continue # une fois ignorer, go to prochaine lettre\n",
    "\n",
    "        if (lettre in dico_lettre_possible): # lettre deja dans dico ?\n",
    "            if (text[i+1].lower() not in dico_lettre_possible[lettre]): # lettre suivante déjà dans sous dico ?\n",
    "                dico_lettre_possible[lettre].append(text[i+1].lower()) # si oui alors l'ajouter\n",
    "        else:\n",
    "            dico_lettre_possible[lettre] = [] # si existe pas deja alors creer une nvll ligne pour la lettre\n",
    "            dico_lettre_possible[lettre].append(text[i+1].lower()) # + creer et ajouter son sous menu \n",
    "        i = i+1\n",
    "    return dico_lettre_possible\n",
    "\n",
    "\n",
    "def generateur(nb_mot, longueur):\n",
    "    contenu = lirefichier('liste_francais.txt', \"ISO-8859-15\")\n",
    "    liste_mot_initiale = contenu\n",
    "    #alpha = \"abcdefghijklmnopqrstuvwxyz\"\n",
    "    alpha = \"aeiouy\"\n",
    "    dico = dictionnaire(contenu)\n",
    "    #print(repr(dico).replace(\"]\", \"]\\n\"))\n",
    "    for m in range(nb_mot):\n",
    "        cr1 = alpha[randint(0, len(alpha)-1)]\n",
    "        car_courant = cr1\n",
    "        mot_courant = cr1\n",
    "        for l in range(longueur - 1):\n",
    "            car_courant = dico[car_courant][randint(0, len(dico[car_courant])-1)]\n",
    "            mot_courant = mot_courant + car_courant\n",
    "        print(mot_courant)\n",
    "\n",
    "\n",
    "    return \"\"\n",
    "    #return mdp_genere\n",
    "\n",
    "\n",
    "\"\"\"\n",
    "Function de test de robustesse du mot de passe.\n",
    "Règles affectant les points:\n",
    "- longueur : 8> 0pts ; 10>=3pts>=8 ; 5pts>=11\n",
    "- présence de majuscule et de minuscules : 5pts\n",
    "- présence de chiffres : 5pts\n",
    "- présence de caractere speciaux : 5pts (=/= lettres et chiffres)\n",
    "\"\"\"\n",
    "def testeur(mdp):\n",
    "    # comment for test\n",
    "    score_longueur = test_longueur(mdp)\n",
    "    score_maj = test_majuscule(mdp)\n",
    "    score_carcsp = test_carcsp(mdp)\n",
    "    score_chiffre = test_chiffre(mdp)\n",
    "    note = score_longueur + score_maj + score_carcsp + score_chiffre\n",
    "\n",
    "    detail_score = \"\\n\\t score_longueur : \"+str(score_longueur)\n",
    "    detail_score = detail_score + \"\\n\\t score_maj : \"+str(score_maj)\n",
    "    detail_score = detail_score + \"\\n\\t score_carcsp : \"+str(score_carcsp)\n",
    "    detail_score = detail_score + \"\\n\\t score_chiffre : \"+str(score_chiffre)\n",
    "\n",
    "    return [note, detail_score]\n",
    "\n",
    "# longueur\n",
    "def test_longueur(mdp):\n",
    "    if len(mdp) <=10 and len(mdp) >=8 :\n",
    "        return 3\n",
    "    elif len(mdp) >=11 :\n",
    "        return 5\n",
    "    return 0\n",
    "    \n",
    "# majuscule\n",
    "def test_majuscule(mdp):\n",
    "    a_minuscule = False\n",
    "    a_majuscule = False\n",
    "    majuscule = \"ABCDEFGHIJKLMNOPQRSTUVWXYZ\"\n",
    "    for lettre in mdp :\n",
    "        if lettre in majuscule :\n",
    "            a_majuscule = True\n",
    "        if lettre in majuscule.lower() :\n",
    "            a_minuscule = True\n",
    "        if a_majuscule == True and a_minuscule == True :\n",
    "            return 5\n",
    "    return 0\n",
    "\n",
    "# caractères spéciaux\n",
    "def test_carcsp(mdp):\n",
    "    majuscule = \"ABCDEFGHIJKLMNOPQRSTUVWXYZ\"\n",
    "    for lettre in mdp :\n",
    "        if lettre not in majuscule and lettre not in majuscule.lower() :\n",
    "            return 5\n",
    "    return 0\n",
    "\n",
    "# chiffres\n",
    "def test_chiffre(mdp):\n",
    "    nombre = \"0123456789\"\n",
    "    for lettre in mdp :\n",
    "        if lettre in nombre :\n",
    "            return 5\n",
    "    return 0\n",
    "\n",
    "def principal():\n",
    "    choix = input(\"voulez vous générer (1) un mdp ou tester (2) un mdp ? : \")\n",
    "    if choix == \"1\":\n",
    "        nb_mot = input(\"quelle nombre de mot voulez vous ?\")\n",
    "        longueur = input(\"quelle longueur de mdp voulez vous ?\")\n",
    "        reponse = \"Voici votre mot de passe :\" + generateur(nb_mot, longueur)\n",
    "    elif choix == \"2\":\n",
    "        tester = input(\"saisisser le mdp à tester :\")\n",
    "        res = testeur(tester)\n",
    "        reponse = \"Voici le score de robustesse de mot de passe : \" + str(res[0])\n",
    "        reponse = reponse + \"\\nDétail du score :\" + res[1]\n",
    "\n",
    "    else :\n",
    "        reponse = \"Merci de répondre par 1 (générer) ou 2 (tester)\"\n",
    "    return reponse\n",
    "    \n",
    "#print (principal())\n",
    "\n",
    "print (generateur(5,8))\n"
   ]
  },
  {
   "cell_type": "code",
   "execution_count": 2,
   "metadata": {},
   "outputs": [],
   "source": [
    "code_test = \"jhdhzgfzgfyezviyegviuyegviu5454ehj_-----jhfk_\""
   ]
  },
  {
   "cell_type": "code",
   "execution_count": 3,
   "metadata": {},
   "outputs": [
    {
     "name": "stdout",
     "output_type": "stream",
     "text": [
      "46\n"
     ]
    }
   ],
   "source": [
    "def nombre_caracteres(code_entree):\n",
    "    \"\"\"compte les caractères d'un code\"\"\"\n",
    "    \n",
    "    alpha = \"ABCDEFGHIJKLMNOPQRSTUVWXYZabcdefghijklmnopqrstuvwxyz-_1234567890\"   # lettres possibles\n",
    "    nb_caracteres = 0\n",
    "    for caractere in code_entree :\n",
    "        if caractere in alpha :\n",
    "            nb_caracteres = nb_caracteres + 1\n",
    "        else :\n",
    "            return \"erreur\"\n",
    "    return nb_caracteres\n",
    "    \n",
    "code_traite = nombre_caracteres(code_test)\n",
    "print (code_traite)"
   ]
  },
  {
   "cell_type": "code",
   "execution_count": 4,
   "metadata": {},
   "outputs": [
    {
     "name": "stdout",
     "output_type": "stream",
     "text": [
      "0.0\n"
     ]
    }
   ],
   "source": [
    "def frequence_caracteres(caractere_visee, code):\n",
    "    \"\"\" fréquence d'apparition d'un caractère dans un code \n",
    "    E : caractere_visee, code(str)\n",
    "    S : frequences (list) listes des fréquences dans l'ordre alpha\"\"\"\n",
    "    frequence = 0\n",
    "    total = nombre_caracteres(code)\n",
    "    if total == \"erreur\":\n",
    "        return \n",
    "    else : \n",
    "        nb_caractere_visee = 0\n",
    "        for caractere in code:\n",
    "            if caractere == caractere_visee:\n",
    "                nb_caractere_visee = nb_caractere_visee + 1\n",
    "        frequence = (nb_caractere_visee / total)*100\n",
    "        return round(frequence, 3)\n",
    "\n",
    "valeur_f = frequence_caracteres(\"1\", code_test)\n",
    "print(valeur_f)"
   ]
  },
  {
   "cell_type": "code",
   "execution_count": 5,
   "metadata": {},
   "outputs": [
    {
     "data": {
      "image/png": "[encoded data removed]",
      "text/plain": [
       "<Figure size 640x480 with 1 Axes>"
      ]
     },
     "metadata": {},
     "output_type": "display_data"
    }
   ],
   "source": [
    "import matplotlib.pyplot as plt\n",
    "\n",
    "# caractères possibles\n",
    "alpha = \"ABCDEFGHIJKLMNOPQRSTUVWXYZabcdefghijklmnopqrstuvwxyz-_1234567890\"  \n",
    "frequences = [0 for i in range(64)]\n",
    "longueur = list(alpha)\n",
    "\n",
    "# fréquences observées des chaque caracteres de alpha\n",
    "for i in range(len(longueur)):\n",
    "    f = frequence_caracteres(longueur[i], code_test)\n",
    "    frequences[i] = f\n",
    "\n",
    "# Tracé du graphique\n",
    "plt.bar(longueur, frequences)\n",
    "plt. gcf(). subplots_adjust(left = 0.125, bottom = 0.1, right = 0.9, top = 0.9, wspace = 0.2, hspace = 0.2) \n",
    "plt.show()"
   ]
  },
  {
   "cell_type": "code",
   "execution_count": 6,
   "metadata": {},
   "outputs": [
    {
     "name": "stdout",
     "output_type": "stream",
     "text": [
      "{'a': ['a', 'r', 'b', 'i', 'n', 's', 't', 'g', 'l', 'y', 'm', 'c', 'd', 'j', 'p', 'u', 'f', 'v', 'h', 'x', 'k', 'z', 'q', 'o', 'e', 'w'], 'r': ['o', 'd', 'e', 'r', 'a', 'i', 't', 'u', 'b', 'p', 'n', 's', 'm', 'c', 'y', 'g', 'h', 'v', 'q', 'k', 'l', 'f', 'w', 'j', 'x', 'z'], 'o': ['n', 'u', 'i', 'm', 'r', 'l', 'y', 't', 'g', 'd', 's', 'c', 'p', 'b', 'a', 'o', 'v', 'f', 'x', 'k', 'q', 'z', 'e', 'w', 'h', 'j'], 'b': ['a', 'b', 'e', 'c', 'd', 'h', 'i', 'j', 'l', 'o', 'r', 's', 'u', 'y', 'm', 'n', 'p', 'v', 't', 'w'], 'i': ['s', 'e', 'r', 'a', 'c', 'o', 'q', 'n', 'l', 'd', 't', 'g', 'f', 'v', 'b', 'm', 'p', 'x', 'u', 'h', 'z', 'j', 'k', 'i', 'w'], 's': ['s', 'e', 'i', 'o', 'm', 't', 'u', 'a', 'c', 'p', 'n', 'q', 'b', 'y', 'h', 'k', 'f', 'l', 'j', 'g', 'd', 'z', 'r', 'v', 'w'], 'e': ['m', 'n', 'r', 's', 'u', 'l', 'i', 'c', 'p', 't', 'v', 'a', 'd', 'f', 'x', 'g', 'z', 'y', 'h', 'o', 'e', 'k', 'b', 'j', 'w', 'q'], 'm': ['e', 'i', 'm', 'a', 'o', 'p', 'u', 's', 'b', 'n', 'g', 'w', 't', 'l', 'r', 'y', 'd', 'v'], 'n': ['t', 'd', 'n', 'a', 'e', 'i', 'c', 's', 'u', 'o', 'g', 'y', 'x', 'j', 'k', 'l', 'q', 'z', 'v', 'f', 'h', 'p', 'b', 'w', 'r', 'm'], 'd': ['o', 'i', 'e', 'a', 'j', 's', 'r', 'u', 'd', 'h', 'm', 'n', 'v', 'y', 'g', 't', 'w', 'l', 'z', 'f', 'k'], 'u': ['r', 's', 'e', 't', 'v', 'p', 'm', 'd', 'a', 'c', 'l', 'i', 'x', 'b', 'n', 'y', 'j', 'g', 'q', 'f', 'h', 'z', 'o', 'k', 'u'], 'j': ['o', 'a', 'e', 'u', 'n', 'i', 'k'], 't': ['s', 't', 'a', 'e', 'o', 'r', 'u', 'i', 'h', 'y', 'c', 'l', 'm', 'z', 'n', 'b', 'f', 'p', 'w', 'g'], 'g': ['e', 'n', 'i', 'h', 'a', 'g', 'l', 'r', 'o', 'u', 'k', 'm', 'd', 's', 'y', 't', 'b', 'w', 'z'], 'y': ['e', 's', 'l', 't', 'n', 'o', 'm', 'c', 'p', 'x', 'a', 'r', 'u', 'g', 'z', 'f', 'd', 'w', 'b', 'j', 'i', 'v'], 'c': ['a', 't', 'e', 'o', 'i', 'c', 'l', 'h', 'r', 'u', 'm', 'n', 'q', 'd', 'y', 'k', 's', 'f'], 'q': ['u'], 'l': ['l', 'e', 'a', 'i', 'u', 'm', 'y', 's', 't', 'o', 'b', 'c', 'f', 'g', 'p', 'v', 'd', 'k', 'n', 'z', 'j', 'h', 'r', 'q'], 'h': ['o', 'e', 'a', 'r', 'i', 'm', 'y', 'u', 'l', 'w', 't', 'n', 'd', 's', 'c'], 'v': ['e', 'i', 'a', 'o', 'r', 'u', 's', 'y', 'd', 'l'], 'p': ['t', 'a', 'l', 'p', 'e', 's', 'o', 'h', 'i', 'r', 'u', 'y', 'n', 'z'], 'f': ['s', 'f', 'a', 'e', 'i', 'l', 'o', 'r', 'g', 'p', 'u', 't', 'k'], 'k': ['b', 'o', 'a', 'c', 'e', 'l', 'i', 'h', 't', 's', 'n', 'k', 'u', 'y', 'r'], 'x': ['a', 'i', 'e', 'q', 't', 'c', 'h', 'o', 'p', 's', 'u', 'y', 'w', 'd'], 'z': ['o', 'e', 'i', 'u', 'a', 'z', 'g', 'b', 'v', 't', 's', 'l', 'y', 'k'], 'w': ['i', 'a', 'n', 'e', 'o', 's', 'r', 'm', 'h', 'y']}\n"
     ]
    }
   ],
   "source": [
    "contenu = lirefichier('liste_francais.txt', \"ISO-8859-15\")\n",
    "print(dictionnaire(contenu))"
   ]
  }
 ],
 "metadata": {
  "kernelspec": {
   "display_name": "Python 3",
   "language": "python",
   "name": "python3"
  },
  "language_info": {
   "codemirror_mode": {
    "name": "ipython",
    "version": 3
   },
   "file_extension": ".py",
   "mimetype": "text/x-python",
   "name": "python",
   "nbconvert_exporter": "python",
   "pygments_lexer": "ipython3",
   "version": "3.12.3"
  }
 },
 "nbformat": 4,
 "nbformat_minor": 2
}
